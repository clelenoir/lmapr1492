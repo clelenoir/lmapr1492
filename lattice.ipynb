{
 "cells": [
  {
   "cell_type": "code",
   "execution_count": 2,
   "metadata": {},
   "outputs": [
    {
     "name": "stdout",
     "output_type": "stream",
     "text": [
      "Vecteurs de base du réseau direct:\n",
      "a: [ 3.70434181e+00 -3.18346000e-03  6.01187786e+00]\n",
      "b: [1.7010585  3.29067748 6.01187786]\n",
      "c: [-5.23434000e-03 -3.18346000e-03  7.06150099e+00]\n",
      "Longueurs (a,b,c): \n",
      " (7.061503648890215, 7.061503643089026, 7.061503647560042)\n",
      "Angles (alpha, beta, gamma): \n",
      " (31.682617797077196, 31.682617854555083, 31.682617847896495)\n",
      "\n",
      "Vecteurs de base du réseau réciproque:\n",
      "a*: [ 1.69401785e+00 -8.77264609e-01  8.60203600e-04]\n",
      "b*: [2.43394568e-04 1.90769222e+00 8.60204636e-04]\n",
      "c*: [-1.44242586 -0.87726462  0.88831573]\n",
      "Longueurs (a*,b*,c*): \n",
      " (1.9076924267575204, 1.9076924314254728, 1.907692429858402)\n",
      "Angles (alpha, beta, gamma): \n",
      "  (117.3705168147125, 117.37051663482421, 117.37051665566358)\n",
      "\n",
      "Type de maille: rhombohedral\n",
      "\n",
      "Système cristallin: trigonal\n",
      "\n",
      "Groupe ponctuel: -3m\n"
     ]
    }
   ],
   "source": [
    "from pymatgen.ext.matproj import MPRester\n",
    "from pymatgen.io.cif import CifWriter\n",
    "from pymatgen.symmetry.analyzer import *\n",
    "with MPRester(\"inU5O5NjJKENIfaZf6EO\") as m:\n",
    "    structure = m.get_structure_by_material_id(\"mp-20289\")\n",
    "    #téléchargement fichier cif\n",
    "    w = CifWriter(structure) \n",
    "    w.write_file('NaInS2.cif')\n",
    "    \n",
    "    #Réseau direct\n",
    "    print(\"Vecteurs de base du réseau direct:\")\n",
    "    RD = structure.lattice\n",
    "    ReseauDirect = structure.lattice.matrix\n",
    "    print(\"a:\", ReseauDirect[0])\n",
    "    print(\"b:\", ReseauDirect[1])\n",
    "    print(\"c:\", ReseauDirect[2])\n",
    "    print(\"Longueurs (a,b,c): \\n\", RD.abc)\n",
    "    print(\"Angles (alpha, beta, gamma): \\n\", RD.angles)\n",
    "    print()\n",
    "    \n",
    "    #Réseau réciproque\n",
    "    print(\"Vecteurs de base du réseau réciproque:\")\n",
    "    RR = structure.lattice.reciprocal_lattice\n",
    "    ReseauReciproque = structure.lattice.reciprocal_lattice.matrix\n",
    "    print(\"a*:\", ReseauReciproque[0])\n",
    "    print(\"b*:\", ReseauReciproque[1])\n",
    "    print(\"c*:\", ReseauReciproque[2])\n",
    "    print(\"Longueurs (a*,b*,c*): \\n\", RR.abc)\n",
    "    print(\"Angles (alpha, beta, gamma): \\n \", RR.angles)\n",
    "    print()\n",
    "    \n",
    "    #Type de maille\n",
    "    A = SpacegroupAnalyzer(structure)\n",
    "    TypeMaille = A.get_lattice_type()\n",
    "    print(\"Type de maille:\", TypeMaille)\n",
    "    print()\n",
    "    \n",
    "    #Système cristallin\n",
    "    SystemeCristallin = A.get_crystal_system()\n",
    "    print(\"Système cristallin:\", SystemeCristallin)\n",
    "    print()\n",
    "    \n",
    "    #Groupe ponctuel\n",
    "    GroupePonctuel = A.get_point_group_symbol()\n",
    "    print(\"Groupe ponctuel:\", GroupePonctuel)\n",
    "    "
   ]
  }
 ],
 "metadata": {
  "kernelspec": {
   "display_name": "Python 3",
   "language": "python",
   "name": "python3"
  },
  "language_info": {
   "codemirror_mode": {
    "name": "ipython",
    "version": 3
   },
   "file_extension": ".py",
   "mimetype": "text/x-python",
   "name": "python",
   "nbconvert_exporter": "python",
   "pygments_lexer": "ipython3",
   "version": "3.6.8"
  }
 },
 "nbformat": 4,
 "nbformat_minor": 2
}
